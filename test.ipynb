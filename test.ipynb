{
 "cells": [
  {
   "cell_type": "code",
   "execution_count": 31,
   "metadata": {},
   "outputs": [],
   "source": [
    "# df.apply(lambda X: kml.newpoint(name=X[\"CUSTOMER NAME\"], coords=[( X[\"LONGITUDE\"],X[\"LATITUDE\"])]) ,axis=1)\n",
    "# kml.save(path = \"data.kml\")\n",
    "# from polycircles import polycircles\n",
    "\n",
    "# def create_kml_polygon(kml, name, center, radius):\n",
    "#     polycircle = polycircles.Polycircle(latitude=center[1], longitude=center[0], radius=radius, number_of_vertices=36)\n",
    "#     pol = kml.newpolygon(name=name)\n",
    "#     pol.outerboundaryis = polycircle.to_kml()\n",
    "#     return pol\n",
    "\n",
    "# kml = simplekml.Kml()\n",
    "# df.apply(lambda X: create_kml_polygon(kml, name=X[\"CUSTOMER NAME\"], center=(X[\"LONGITUDE\"], X[\"LATITUDE\"]), radius=10), axis=1)\n",
    "# kml.save(path = \"data1.kml\")"
   ]
  },
  {
   "cell_type": "code",
   "execution_count": 2,
   "metadata": {},
   "outputs": [],
   "source": [
    "import pandas as pd"
   ]
  },
  {
   "cell_type": "code",
   "execution_count": 14,
   "metadata": {},
   "outputs": [],
   "source": [
    "df = pd.read_excel(\"TRACKING_JULY_2024.xlsx\", sheet_name=\"VANSALES CUSTOMERS\")\n",
    "df[\"RADIUS\"]=10"
   ]
  },
  {
   "cell_type": "code",
   "execution_count": 29,
   "metadata": {},
   "outputs": [],
   "source": [
    "import simplekml\n",
    "from polycircles import polycircles"
   ]
  },
  {
   "cell_type": "code",
   "execution_count": 26,
   "metadata": {},
   "outputs": [],
   "source": [
    "invalid_longitude_df = df[~df[\"LONGITUDE\"].between(-180, 180)]\n",
    "df = df[df[\"LONGITUDE\"].between(-180, 180)]\n"
   ]
  },
  {
   "cell_type": "code",
   "execution_count": 30,
   "metadata": {},
   "outputs": [],
   "source": [
    "kml = simplekml.Kml()\n",
    "for index, row in df.iterrows():\n",
    "    point = kml.newpoint(name=row[\"CUSTOMER NAME\"], coords=[(row[\"LONGITUDE\"], row[\"LATITUDE\"])])\n",
    "    \n",
    "    polycircle = polycircles.Polycircle(latitude=row[\"LATITUDE\"],\n",
    "                                        longitude=row[\"LONGITUDE\"],\n",
    "                                        radius=100,\n",
    "                                        number_of_vertices=36)\n",
    "    # pol = kml.newpolygon(name=\"Circle around \" + row[\"CUSTOMER NAME\"])\n",
    "    pol = kml.newpolygon(name=\"Circle around \" + str(row[\"CUSTOMER NAME\"]))\n",
    "    pol.outerboundaryis = polycircle.to_kml()\n",
    "    pol.style.polystyle.color = simplekml.Color.changealphaint(125, simplekml.Color.rgb(144, 238, 144))  # Semi-transparent Light Green color\n",
    "\n",
    "\n",
    "\n",
    "kml.save(path = \"data_with_circles.kml\")"
   ]
  },
  {
   "cell_type": "code",
   "execution_count": null,
   "metadata": {},
   "outputs": [],
   "source": []
  }
 ],
 "metadata": {
  "kernelspec": {
   "display_name": "venv",
   "language": "python",
   "name": "python3"
  },
  "language_info": {
   "codemirror_mode": {
    "name": "ipython",
    "version": 3
   },
   "file_extension": ".py",
   "mimetype": "text/x-python",
   "name": "python",
   "nbconvert_exporter": "python",
   "pygments_lexer": "ipython3",
   "version": "3.12.4"
  }
 },
 "nbformat": 4,
 "nbformat_minor": 2
}
